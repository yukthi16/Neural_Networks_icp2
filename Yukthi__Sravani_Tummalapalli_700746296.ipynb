{
  "nbformat": 4,
  "nbformat_minor": 0,
  "metadata": {
    "colab": {
      "provenance": []
    },
    "kernelspec": {
      "name": "python3",
      "display_name": "Python 3"
    },
    "language_info": {
      "name": "python"
    }
  },
  "cells": [
    {
      "cell_type": "code",
      "execution_count": 2,
      "metadata": {
        "colab": {
          "base_uri": "https://localhost:8080/"
        },
        "id": "s_N4FPoPeMts",
        "outputId": "b9ebfb92-23a9-487d-d45c-d621045405b5"
      },
      "outputs": [
        {
          "output_type": "stream",
          "name": "stdout",
          "text": [
            "yukthi\n",
            "tummalapalli\n",
            "yukthi tummalapalli\n"
          ]
        }
      ],
      "source": [
        "def full_name(a,b):\n",
        "  return a+\" \"+b\n",
        "firstname=input()\n",
        "lastname=input()\n",
        "print(full_name(firstname,lastname))"
      ]
    },
    {
      "cell_type": "code",
      "source": [
        "def string_alternative(s):\n",
        "  return s[::2]\n",
        "print(string_alternative(input()))"
      ],
      "metadata": {
        "colab": {
          "base_uri": "https://localhost:8080/"
        },
        "id": "ATc-Mdzbev0s",
        "outputId": "073a364c-f30c-46c5-c86d-d3f439715178"
      },
      "execution_count": 12,
      "outputs": [
        {
          "output_type": "stream",
          "name": "stdout",
          "text": [
            "Good Evening\n",
            "Go vnn\n"
          ]
        }
      ]
    },
    {
      "cell_type": "code",
      "source": [
        "text = open(\"input.txt\", \"r\")\n",
        "d = dict()\n",
        "for line in text:\n",
        "\n",
        "    line = line.strip()\n",
        "    line = line.lower()\n",
        "    words = line.split(\" \")\n",
        "    for word in words:\n",
        "        if word in d:\n",
        "            d[word] = d[word] + 1\n",
        "        else:\n",
        "            d[word] = 1\n",
        "file1 = open('output.txt', 'w')\n",
        "s=\"\"\n",
        "for key in list(d.keys()):\n",
        "    s+=key+ \":\"+ str(d[key])+\"\\n\"\n",
        "file1.write(s)\n",
        "file1.close()"
      ],
      "metadata": {
        "id": "irrIlWgogNFO"
      },
      "execution_count": 8,
      "outputs": []
    },
    {
      "cell_type": "code",
      "source": [
        "l=[]\n",
        "l1=[]\n",
        "n=int(input(\"Enter number of customers:\"))\n",
        "for i in range(n):\n",
        "  l.append(int(input()))\n",
        "  l1.append(l[i]*2.54)\n",
        "print(l)\n",
        "print(l1)"
      ],
      "metadata": {
        "colab": {
          "base_uri": "https://localhost:8080/"
        },
        "id": "JvnWs2CAhhMa",
        "outputId": "116a28a9-5281-458f-9c6f-5dc840d8c5f8"
      },
      "execution_count": 11,
      "outputs": [
        {
          "output_type": "stream",
          "name": "stdout",
          "text": [
            "Enter number of customers:4\n",
            "150\n",
            "155\n",
            "145\n",
            "148\n",
            "[150, 155, 145, 148]\n",
            "[381.0, 393.7, 368.3, 375.92]\n"
          ]
        }
      ]
    },
    {
      "cell_type": "code",
      "source": [],
      "metadata": {
        "id": "IAxEL2zakPVd"
      },
      "execution_count": null,
      "outputs": []
    }
  ]
}